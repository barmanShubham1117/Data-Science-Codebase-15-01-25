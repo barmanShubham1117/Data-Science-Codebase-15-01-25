{
 "cells": [
  {
   "cell_type": "code",
   "execution_count": 3,
   "id": "72b03d6d-f83d-4ac0-ba4b-8c2b87ba260c",
   "metadata": {},
   "outputs": [],
   "source": [
    "# importing package using alias\n",
    "import numpy as np"
   ]
  },
  {
   "cell_type": "code",
   "execution_count": 4,
   "id": "fe54f9b7-fa82-4fd0-a1b2-9a4b421675ba",
   "metadata": {},
   "outputs": [
    {
     "name": "stdout",
     "output_type": "stream",
     "text": [
      "[23, 45, 65, 87]\n",
      "<class 'list'>\n",
      "[23 45 65 87]\n",
      "<class 'numpy.ndarray'>\n"
     ]
    }
   ],
   "source": [
    "# Creating an array using a list\n",
    "mList = [23, 45, 65, 87]\n",
    "print(mList)\n",
    "print(type(mList))\n",
    "\n",
    "mArray = np.array(mList)\n",
    "print(mArray)\n",
    "print(type(mArray))"
   ]
  },
  {
   "cell_type": "code",
   "execution_count": 5,
   "id": "e444911c-77b8-448d-9708-15f3345a1d83",
   "metadata": {},
   "outputs": [
    {
     "name": "stdout",
     "output_type": "stream",
     "text": [
      "(23, 45, 65, 87)\n",
      "<class 'tuple'>\n",
      "[23 45 65 87]\n",
      "<class 'numpy.ndarray'>\n"
     ]
    }
   ],
   "source": [
    "# Creating an array using a tuple\n",
    "mTuple = (23, 45, 65, 87)\n",
    "print(mTuple)\n",
    "print(type(mTuple))\n",
    "\n",
    "mArray = np.array(mTuple)\n",
    "print(mArray)\n",
    "print(type(mArray))"
   ]
  },
  {
   "cell_type": "code",
   "execution_count": 14,
   "id": "df3f9d89-c226-4a29-9ef1-b377c045679c",
   "metadata": {},
   "outputs": [
    {
     "name": "stdout",
     "output_type": "stream",
     "text": [
      "[[23 34 54]\n",
      " [43 65 76]]\n",
      "Dimension of the array: 2\n",
      "23\n",
      "10\n",
      "Dimension of the array: 0\n"
     ]
    }
   ],
   "source": [
    "# 2-dimensional array\n",
    "twoDArray = np.array([[23, 34, 54],[43, 65, 76]])\n",
    "print(twoDArray)\n",
    "print(f'Dimension of the array: {twoDArray.ndim}')\n",
    "\n",
    "# Accessing values from a 2d array\n",
    "print(twoDArray[0, 0])\n",
    "\n",
    "# 0-dimensional array\n",
    "zeroDArray = np.array(10)\n",
    "print(zeroDArray)\n",
    "print(f'Dimension of the array: {zeroDArray.ndim}')"
   ]
  },
  {
   "cell_type": "code",
   "execution_count": null,
   "id": "1b609992-0211-4009-be4b-71f0e4e3aafd",
   "metadata": {},
   "outputs": [],
   "source": []
  }
 ],
 "metadata": {
  "kernelspec": {
   "display_name": "Python 3 (ipykernel)",
   "language": "python",
   "name": "python3"
  },
  "language_info": {
   "codemirror_mode": {
    "name": "ipython",
    "version": 3
   },
   "file_extension": ".py",
   "mimetype": "text/x-python",
   "name": "python",
   "nbconvert_exporter": "python",
   "pygments_lexer": "ipython3",
   "version": "3.13.1"
  }
 },
 "nbformat": 4,
 "nbformat_minor": 5
}
