{
 "cells": [
  {
   "cell_type": "markdown",
   "id": "730d4f32-ab74-498d-a256-05560d6022fb",
   "metadata": {},
   "source": [
    "## Subham Barman's Problem Statement:\n",
    "A XYZ company wants to build a dating application. Perform a detailed detailed analysis on the given dataset, and find insights that can help to the company to outreach maximum users.\n",
    "\n",
    "1. Create user categories based on their age.\n",
    "2. Check if it is feasible to include other gender in our platform\n",
    "3. Find the list and the order of the cities in which company can spend money for marketing\n",
    "4. Mostly preferred primary and secodary application used by the people\n",
    "5. Find the most preferred reason, why user use dating apps."
   ]
  },
  {
   "cell_type": "markdown",
   "id": "d02d2821-768f-4916-8826-9e78a1266d0a",
   "metadata": {},
   "source": [
    "## Atahrv Rahate's Problem Statement:\n",
    "Suppose  you are matrimony company based in Bangalore .Analyze  the engagement time ,education level and satisfaction level of users with various apps to make finding a match for a new client easy by preferring them the type of app that will be best for them."
   ]
  },
  {
   "cell_type": "markdown",
   "id": "d9238e01-a2a1-4fc4-b9a0-6bc5fe0b3724",
   "metadata": {},
   "source": [
    "## Sameer Sondawale's Problem Statement:\n",
    "A dating app wants to analyze its dataset to understand user behavior and preferences. Use the data to identify trends, improve user matches, and suggest strategies to attract and retain more users."
   ]
  },
  {
   "cell_type": "markdown",
   "id": "8680cedd-268b-4850-a328-3c9365f5e538",
   "metadata": {},
   "source": [
    "## Priyanshi Bhaisare's Problem Statement:\n",
    "This analysis will provide valuable insights for dating app developers and marketers, enabling them to tailor their offerings to better meet user needs, enhance user safety, and improve overall satisfaction. By addressing the challenges faced by users and incorporating desired features, dating applications can foster a more positive and engaging user experience."
   ]
  },
  {
   "cell_type": "markdown",
   "id": "8ba244b0-1525-49f3-8c34-c4bf40be7023",
   "metadata": {},
   "source": [
    "## Shon Kapate's Problem Statement:\n",
    "Kapate Infotech is developing a dating app. Perform a detailed analysis of the dataset to help the company enhance user experience, eliminate challenges faced by users in the existing application, and refine app features"
   ]
  },
  {
   "cell_type": "code",
   "execution_count": null,
   "id": "3c873c7a-d1f3-4ad6-8030-16d4dae4eb5c",
   "metadata": {},
   "outputs": [],
   "source": []
  }
 ],
 "metadata": {
  "kernelspec": {
   "display_name": "Python 3 (ipykernel)",
   "language": "python",
   "name": "python3"
  },
  "language_info": {
   "codemirror_mode": {
    "name": "ipython",
    "version": 3
   },
   "file_extension": ".py",
   "mimetype": "text/x-python",
   "name": "python",
   "nbconvert_exporter": "python",
   "pygments_lexer": "ipython3",
   "version": "3.13.1"
  }
 },
 "nbformat": 4,
 "nbformat_minor": 5
}
